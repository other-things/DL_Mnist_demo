{
  "cells": [
    {
      "metadata": {},
      "cell_type": "markdown",
      "source": "# HAND DIGIT RECOGNITION USING MNIST dataset"
    },
    {
      "metadata": {},
      "cell_type": "markdown",
      "source": "## 1. Importing \nImporting the Packages.\n\nDownloading MNIST Dataset\n\nPartitioning the data\n\n"
    },
    {
      "metadata": {
        "trusted": true
      },
      "cell_type": "code",
      "source": "#Importing the necessary Libraries and modules to build our deep neural network\nimport numpy\nfrom keras.datasets import mnist\nfrom keras.models import Sequential\nfrom keras.layers import Dense\nfrom keras.layers import Dropout\nfrom keras.utils import np_utils",
      "execution_count": null,
      "outputs": []
    },
    {
      "metadata": {
        "trusted": true
      },
      "cell_type": "code",
      "source": "(X_train_ori, y_train_ori), (X_test_ori, y_test_ori) = mnist.load_data() # Partition happens here by default",
      "execution_count": null,
      "outputs": []
    },
    {
      "metadata": {
        "trusted": true
      },
      "cell_type": "code",
      "source": "X_train_ori[0]",
      "execution_count": null,
      "outputs": []
    },
    {
      "metadata": {
        "trusted": true
      },
      "cell_type": "code",
      "source": "y_train_ori[0]",
      "execution_count": null,
      "outputs": []
    },
    {
      "metadata": {},
      "cell_type": "markdown",
      "source": "### 2. Visualizing the data"
    },
    {
      "metadata": {
        "trusted": true
      },
      "cell_type": "code",
      "source": "import matplotlib.pyplot as plt\n\n\nplt.subplot(221)\nplt.imshow(X_train_ori[0], cmap=plt.get_cmap('gray'))\nplt.subplot(222)\nplt.imshow(X_train_ori[1], cmap=plt.get_cmap('gray'))\nplt.subplot(223)\nplt.imshow(X_train_ori[2], cmap=plt.get_cmap('gray'))\nplt.subplot(224)\nplt.imshow(X_train_ori[90], cmap=plt.get_cmap('gray'))\n# show the plot\nplt.show()",
      "execution_count": null,
      "outputs": []
    },
    {
      "metadata": {},
      "cell_type": "markdown",
      "source": "## 2. PREPROCESSING"
    },
    {
      "metadata": {
        "trusted": true
      },
      "cell_type": "code",
      "source": "# Setting the value the seed. You can set your seed to any value.\nseed = 7\nnumpy.random.seed(seed)",
      "execution_count": null,
      "outputs": []
    },
    {
      "metadata": {
        "trusted": true
      },
      "cell_type": "code",
      "source": "X_train_ori.shape",
      "execution_count": null,
      "outputs": []
    },
    {
      "metadata": {
        "trusted": true
      },
      "cell_type": "code",
      "source": "# flatten 28*28 images to a 784 vector for each image\nnum_pixels = X_train_ori.shape[1] * X_train_ori.shape[2]\nX_train = X_train_ori.reshape(X_train_ori.shape[0], num_pixels).astype('float32')\nX_test = X_test_ori.reshape(X_test_ori.shape[0], num_pixels).astype('float32')",
      "execution_count": null,
      "outputs": []
    },
    {
      "metadata": {
        "trusted": true
      },
      "cell_type": "code",
      "source": "X_train.shape",
      "execution_count": null,
      "outputs": []
    },
    {
      "metadata": {
        "trusted": true
      },
      "cell_type": "code",
      "source": "# normalize inputs from 0-255 to 0-1. This is a standard practice \nX_train = X_train / 255\nX_test = X_test / 255",
      "execution_count": null,
      "outputs": []
    },
    {
      "metadata": {
        "trusted": true
      },
      "cell_type": "code",
      "source": "# one hot encode outputs. ; \n#For eg. an output of '9' would be one-hot encoded to [0,0,0,0,0,0,0,0,1]\n#'8' would be encoded to [0,0,0,0,0,0,0,0,1,0]\n\ny_train = np_utils.to_categorical(y_train_ori)\ny_test = np_utils.to_categorical(y_test_ori)\nnum_classes = y_test.shape[1]",
      "execution_count": null,
      "outputs": []
    },
    {
      "metadata": {},
      "cell_type": "markdown",
      "source": "## 3. MODELLING\n\nThis is where we define our Deep Learning Model. It's a small network . But still very powerful."
    },
    {
      "metadata": {
        "trusted": true
      },
      "cell_type": "code",
      "source": "# define baseline model\ndef baseline_model():\n    # create model\n    model = Sequential()\n    model.add(Dense(num_pixels, input_dim=num_pixels, kernel_initializer='normal', activation='relu')) #HIDDEN LAYER\n    model.add(Dense(num_classes, kernel_initializer='normal', activation='softmax')) #Output Layer \n    model.compile(loss='categorical_crossentropy', optimizer='adam', metrics=['accuracy']) #Compile the model\n    return model ",
      "execution_count": null,
      "outputs": []
    },
    {
      "metadata": {
        "trusted": true
      },
      "cell_type": "code",
      "source": "# build the model\nmodel = baseline_model() #initialize the model using the fucntion we defined.\n# Fit the model\nfit = model.fit(X_train, y_train, validation_data=(X_test, y_test), epochs=10, batch_size=200, verbose=2)\n# Final evaluation of the model\nscores = model.evaluate(X_test, y_test, verbose=0)\nprint(\"Accuracy: %.2f%%\" % (scores[1]*100))",
      "execution_count": null,
      "outputs": []
    },
    {
      "metadata": {},
      "cell_type": "markdown",
      "source": "### Final Evaluation of the Model"
    },
    {
      "metadata": {
        "trusted": true
      },
      "cell_type": "code",
      "source": "plt.plot(fit.history['acc'])\nplt.plot(fit.history['val_acc'])\nplt.title('model_accuracy')\nplt.ylabel('accuracy')\nplt.xlabel('epoch')\nplt.legend(['train','test'],loc='upper left')\nplt.show()",
      "execution_count": null,
      "outputs": []
    },
    {
      "metadata": {},
      "cell_type": "markdown",
      "source": "## PREDICT\n\nFinally let's make some predictions :)"
    },
    {
      "metadata": {
        "trusted": true
      },
      "cell_type": "code",
      "source": "# Let's predict what is the first image of the test set\n(X_train, y_train), (X_test, y_test) = mnist.load_data()",
      "execution_count": null,
      "outputs": []
    },
    {
      "metadata": {
        "trusted": true
      },
      "cell_type": "code",
      "source": "def predict_output(image_id):\n    plt.imshow(X_test[image_id], cmap=plt.get_cmap('gray'))\n    plt.show()\n    \n    print(model.predict(X_test[8001].reshape(1,784)))\n    print(numpy.argmax(model.predict(X_test[8001].reshape(1,784))))",
      "execution_count": null,
      "outputs": []
    },
    {
      "metadata": {
        "trusted": true
      },
      "cell_type": "code",
      "source": "predict_output(8001)",
      "execution_count": null,
      "outputs": []
    },
    {
      "metadata": {
        "trusted": true
      },
      "cell_type": "code",
      "source": "",
      "execution_count": null,
      "outputs": []
    },
    {
      "metadata": {
        "trusted": true
      },
      "cell_type": "code",
      "source": "",
      "execution_count": null,
      "outputs": []
    }
  ],
  "metadata": {
    "celltoolbar": "Raw Cell Format",
    "kernelspec": {
      "name": "python3",
      "display_name": "Python 3",
      "language": "python"
    },
    "language_info": {
      "mimetype": "text/x-python",
      "nbconvert_exporter": "python",
      "name": "python",
      "file_extension": ".py",
      "version": "3.5.4",
      "pygments_lexer": "ipython3",
      "codemirror_mode": {
        "version": 3,
        "name": "ipython"
      }
    }
  },
  "nbformat": 4,
  "nbformat_minor": 2
}